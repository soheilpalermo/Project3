{
 "cells": [
  {
   "cell_type": "code",
   "execution_count": 17,
   "metadata": {},
   "outputs": [],
   "source": [
    "from pymongo import MongoClient\n",
    "import pandas as pd"
   ]
  },
  {
   "cell_type": "code",
   "execution_count": 18,
   "metadata": {},
   "outputs": [],
   "source": [
    "db_handle = MongoClient(port=27017)"
   ]
  },
  {
   "cell_type": "code",
   "execution_count": 19,
   "metadata": {},
   "outputs": [],
   "source": [
    "def get_db(db_handle, db_name, collection_name):\n",
    "    db = db_handle[db_name]  # Specify the database name\n",
    "    collection = db[collection_name]  # Specify the collection name\n",
    "    \n",
    "    return db, collection"
   ]
  },
  {
   "cell_type": "code",
   "execution_count": 20,
   "metadata": {},
   "outputs": [],
   "source": [
    "def save_to_db(file_path, db_handle, db_name, collection_name):   \n",
    "    df = pd.read_excel(file_path)\n",
    "    \n",
    "    #Convert NaN to None (MongoDB-friendly format)\n",
    "    df = df.where(pd.notnull(df), None)\n",
    "    \n",
    "    db, collection = get_db(db_handle, db_name, collection_name)\n",
    "    data = df.to_dict(\"records\")  # Convert the DataFrame to a list of dictionaries\n",
    "    collection.insert_many(data)"
   ]
  },
  {
   "cell_type": "code",
   "execution_count": 21,
   "metadata": {},
   "outputs": [],
   "source": [
    "file_path = \"../ResourceIar/GDP Deflator at Market Prices, LCU.xlsx\"\n",
    "db_name = \"economic_data\"\n",
    "collection_name = \"gdp_deflator\"\n",
    "save_to_db(file_path, db_handle, db_name, collection_name)"
   ]
  },
  {
   "cell_type": "code",
   "execution_count": 22,
   "metadata": {},
   "outputs": [
    {
     "name": "stdout",
     "output_type": "stream",
     "text": [
      "{'_id': ObjectId('674ebcc7b9267c265cd1e831'), 'Unnamed: 0': None, 'Albania': nan, 'Argentina': nan, 'Australia': nan, 'Austria': nan, 'Belgium': nan, 'Bulgaria': nan, 'Bahrain': nan, 'Bosnia and Herzegovina': nan, 'Belarus': nan, 'Bolivia': nan, 'Brazil': nan, 'Botswana': nan, 'Canada': nan, 'Switzerland': nan, 'Chile': nan, 'China': nan, 'Cameroon': nan, 'Colombia': nan, 'Costa Rica': nan, 'Cyprus': nan, 'Czech Republic': nan, 'Germany': nan, 'Denmark': nan, 'Ecuador': nan, 'Egypt, Arab Rep.': nan, 'Spain': nan, 'Estonia': nan, 'Finland': nan, 'France': nan, 'United Kingdom': nan, 'Ghana': nan, 'Greece': nan, 'Guatemala': nan, 'Hong Kong SAR, China': nan, 'Honduras': nan, 'Croatia': nan, 'Hungary': nan, 'Indonesia': nan, 'India': nan, 'Ireland': nan, 'Iceland': nan, 'Israel': nan, 'Italy': nan, 'Jordan': nan, 'Japan': nan, 'Kazakhstan': nan, 'Kenya': nan, 'Korea, Rep.': nan, 'Kuwait': nan, 'Sri Lanka': nan, 'Lithuania': nan, 'Luxembourg': nan, 'Latvia': nan, 'Morocco': nan, 'Mexico': nan, 'North Macedonia': nan, 'Malta': nan, 'Mongolia': nan, 'Malaysia': nan, 'Nigeria': nan, 'Nicaragua': nan, 'Netherlands': nan, 'Norway': nan, 'New Zealand': nan, 'Peru': nan, 'Philippines': nan, 'Poland': nan, 'Portugal': nan, 'Paraguay': nan, 'Romania': nan, 'Russian Federation': nan, 'Saudi Arabia': nan, 'Singapore': nan, 'Serbia': nan, 'Slovakia': nan, 'Slovenia': nan, 'Sweden': nan, 'Thailand': nan, 'Tunisia': nan, 'Turkey': nan, 'Taiwan, China': nan, 'Ukraine': nan, 'Uruguay': nan, 'United States': nan, 'South Africa': nan}\n",
      "{'_id': ObjectId('674ebcc7b9267c265cd1e832'), 'Unnamed: 0': '1995Q1', 'Albania': nan, 'Argentina': 0.66462, 'Australia': 0.478071, 'Austria': 0.722702, 'Belgium': 0.668909, 'Bulgaria': 0.01739, 'Bahrain': nan, 'Bosnia and Herzegovina': nan, 'Belarus': nan, 'Bolivia': 1.640577, 'Brazil': 0.927748, 'Botswana': 0.167669, 'Canada': 0.654323, 'Switzerland': 0.910383, 'Chile': nan, 'China': 0.45884, 'Cameroon': nan, 'Colombia': nan, 'Costa Rica': 0.146466, 'Cyprus': 0.664366, 'Czech Republic': nan, 'Germany': 0.737062, 'Denmark': 0.637355, 'Ecuador': nan, 'Egypt, Arab Rep.': nan, 'Spain': 0.595185, 'Estonia': 0.242532, 'Finland': 0.710156, 'France': 0.718561, 'United Kingdom': 0.560443, 'Ghana': nan, 'Greece': 0.611839, 'Guatemala': nan, 'Hong Kong SAR, China': 0.785422, 'Honduras': nan, 'Croatia': nan, 'Hungary': 0.180167, 'Indonesia': 0.135627, 'India': nan, 'Ireland': 0.496783, 'Iceland': 0.378592, 'Israel': 0.545077, 'Italy': 0.607496, 'Jordan': 0.429246, 'Japan': 1.139157, 'Kazakhstan': nan, 'Kenya': nan, 'Korea, Rep.': 0.58421, 'Kuwait': nan, 'Sri Lanka': nan, 'Lithuania': 0.371129, 'Luxembourg': 0.531315, 'Latvia': 0.321515, 'Morocco': nan, 'Mexico': 0.151074, 'North Macedonia': nan, 'Malta': nan, 'Mongolia': nan, 'Malaysia': nan, 'Nigeria': nan, 'Nicaragua': nan, 'Netherlands': 0.615489, 'Norway': 0.299499, 'New Zealand': 0.733577, 'Peru': nan, 'Philippines': 0.348943, 'Poland': nan, 'Portugal': 0.55326, 'Paraguay': 0.165102, 'Romania': 0.012841, 'Russian Federation': 0.016756, 'Saudi Arabia': nan, 'Singapore': 0.843283, 'Serbia': 0.020906, 'Slovakia': 0.472967, 'Slovenia': 0.446692, 'Sweden': 0.563418, 'Thailand': 0.826319, 'Tunisia': nan, 'Turkey': 0.015551, 'Taiwan, China': 0.977918, 'Ukraine': nan, 'Uruguay': nan, 'United States': 0.664523, 'South Africa': 0.242769}\n",
      "{'_id': ObjectId('674ebcc7b9267c265cd1e833'), 'Unnamed: 0': '1995Q2', 'Albania': nan, 'Argentina': 0.663185, 'Australia': 0.482254, 'Austria': 0.729359, 'Belgium': 0.668213, 'Bulgaria': 0.01616, 'Bahrain': nan, 'Bosnia and Herzegovina': nan, 'Belarus': nan, 'Bolivia': 1.676464, 'Brazil': 0.977718, 'Botswana': 0.176282, 'Canada': 0.657921, 'Switzerland': 0.914079, 'Chile': nan, 'China': 0.476008, 'Cameroon': nan, 'Colombia': nan, 'Costa Rica': 0.143176, 'Cyprus': 0.674344, 'Czech Republic': nan, 'Germany': 0.74162, 'Denmark': 0.640364, 'Ecuador': nan, 'Egypt, Arab Rep.': nan, 'Spain': 0.600167, 'Estonia': 0.257506, 'Finland': 0.714191, 'France': 0.720788, 'United Kingdom': 0.564872, 'Ghana': nan, 'Greece': 0.619382, 'Guatemala': nan, 'Hong Kong SAR, China': 0.797016, 'Honduras': nan, 'Croatia': nan, 'Hungary': 0.195801, 'Indonesia': 0.138849, 'India': nan, 'Ireland': 0.507597, 'Iceland': 0.380085, 'Israel': 0.556534, 'Italy': 0.617649, 'Jordan': 0.427917, 'Japan': 1.136799, 'Kazakhstan': nan, 'Kenya': nan, 'Korea, Rep.': 0.599515, 'Kuwait': nan, 'Sri Lanka': nan, 'Lithuania': 0.3857, 'Luxembourg': 0.55505, 'Latvia': 0.323307, 'Morocco': nan, 'Mexico': 0.176319, 'North Macedonia': nan, 'Malta': nan, 'Mongolia': nan, 'Malaysia': nan, 'Nigeria': nan, 'Nicaragua': nan, 'Netherlands': 0.608701, 'Norway': 0.299518, 'New Zealand': 0.737431, 'Peru': nan, 'Philippines': 0.36018, 'Poland': 0.40838, 'Portugal': 0.5558, 'Paraguay': 0.168225, 'Romania': 0.013813, 'Russian Federation': 0.021838, 'Saudi Arabia': nan, 'Singapore': 0.844021, 'Serbia': 0.022905, 'Slovakia': 0.519655, 'Slovenia': 0.457804, 'Sweden': 0.567658, 'Thailand': 0.826293, 'Tunisia': nan, 'Turkey': 0.016936, 'Taiwan, China': 0.985286, 'Ukraine': nan, 'Uruguay': nan, 'United States': 0.667735, 'South Africa': 0.248443}\n",
      "{'_id': ObjectId('674ebcc7b9267c265cd1e834'), 'Unnamed: 0': '1995Q3', 'Albania': nan, 'Argentina': 0.647565, 'Australia': 0.481761, 'Austria': 0.73343, 'Belgium': 0.669631, 'Bulgaria': 0.017085, 'Bahrain': nan, 'Bosnia and Herzegovina': nan, 'Belarus': nan, 'Bolivia': 1.738472, 'Brazil': 1.01598, 'Botswana': 0.172129, 'Canada': 0.660319, 'Switzerland': 0.917693, 'Chile': nan, 'China': 0.489808, 'Cameroon': nan, 'Colombia': nan, 'Costa Rica': 0.148829, 'Cyprus': 0.674319, 'Czech Republic': nan, 'Germany': 0.745297, 'Denmark': 0.63895, 'Ecuador': nan, 'Egypt, Arab Rep.': nan, 'Spain': 0.604191, 'Estonia': 0.270566, 'Finland': 0.717408, 'France': 0.723395, 'United Kingdom': 0.568897, 'Ghana': nan, 'Greece': 0.629715, 'Guatemala': nan, 'Hong Kong SAR, China': 0.809801, 'Honduras': nan, 'Croatia': nan, 'Hungary': 0.204936, 'Indonesia': 0.141435, 'India': nan, 'Ireland': 0.505938, 'Iceland': 0.385607, 'Israel': 0.574403, 'Italy': 0.626433, 'Jordan': 0.427269, 'Japan': 1.137954, 'Kazakhstan': nan, 'Kenya': nan, 'Korea, Rep.': 0.611104, 'Kuwait': nan, 'Sri Lanka': nan, 'Lithuania': 0.417838, 'Luxembourg': 0.549735, 'Latvia': 0.330612, 'Morocco': nan, 'Mexico': 0.187916, 'North Macedonia': nan, 'Malta': nan, 'Mongolia': nan, 'Malaysia': nan, 'Nigeria': nan, 'Nicaragua': nan, 'Netherlands': 0.618926, 'Norway': 0.297548, 'New Zealand': 0.743244, 'Peru': nan, 'Philippines': 0.375296, 'Poland': 0.382878, 'Portugal': 0.559384, 'Paraguay': 0.173304, 'Romania': 0.014668, 'Russian Federation': 0.02627, 'Saudi Arabia': nan, 'Singapore': 0.842514, 'Serbia': 0.026536, 'Slovakia': 0.497556, 'Slovenia': 0.473128, 'Sweden': 0.570905, 'Thailand': 0.836211, 'Tunisia': nan, 'Turkey': 0.018718, 'Taiwan, China': 1.003886, 'Ukraine': nan, 'Uruguay': nan, 'United States': 0.670998, 'South Africa': 0.256132}\n",
      "{'_id': ObjectId('674ebcc7b9267c265cd1e835'), 'Unnamed: 0': '1995Q4', 'Albania': nan, 'Argentina': 0.650471, 'Australia': 0.491086, 'Austria': 0.730895, 'Belgium': 0.667238, 'Bulgaria': 0.018493, 'Bahrain': nan, 'Bosnia and Herzegovina': nan, 'Belarus': nan, 'Bolivia': 1.772566, 'Brazil': 1.07701, 'Botswana': 0.164091, 'Canada': 0.663747, 'Switzerland': 0.919161, 'Chile': nan, 'China': 0.496506, 'Cameroon': nan, 'Colombia': nan, 'Costa Rica': 0.16524, 'Cyprus': 0.684039, 'Czech Republic': nan, 'Germany': 0.746242, 'Denmark': 0.644411, 'Ecuador': nan, 'Egypt, Arab Rep.': nan, 'Spain': 0.611107, 'Estonia': 0.285982, 'Finland': 0.71998, 'France': 0.727155, 'United Kingdom': 0.575581, 'Ghana': nan, 'Greece': 0.639367, 'Guatemala': nan, 'Hong Kong SAR, China': 0.817301, 'Honduras': nan, 'Croatia': nan, 'Hungary': 0.221854, 'Indonesia': 0.146013, 'India': nan, 'Ireland': 0.516211, 'Iceland': 0.38378, 'Israel': 0.583779, 'Italy': 0.635341, 'Jordan': 0.43931, 'Japan': 1.138575, 'Kazakhstan': nan, 'Kenya': nan, 'Korea, Rep.': 0.605152, 'Kuwait': nan, 'Sri Lanka': nan, 'Lithuania': 0.431625, 'Luxembourg': 0.572627, 'Latvia': 0.339278, 'Morocco': nan, 'Mexico': 0.20024, 'North Macedonia': nan, 'Malta': nan, 'Mongolia': nan, 'Malaysia': nan, 'Nigeria': nan, 'Nicaragua': nan, 'Netherlands': 0.618929, 'Norway': 0.299234, 'New Zealand': 0.747607, 'Peru': nan, 'Philippines': 0.380494, 'Poland': 0.373259, 'Portugal': 0.562121, 'Paraguay': 0.175055, 'Romania': 0.016563, 'Russian Federation': 0.02824, 'Saudi Arabia': nan, 'Singapore': 0.851217, 'Serbia': 0.032586, 'Slovakia': 0.488384, 'Slovenia': 0.487446, 'Sweden': 0.573911, 'Thailand': 0.839581, 'Tunisia': nan, 'Turkey': 0.022264, 'Taiwan, China': 1.022978, 'Ukraine': nan, 'Uruguay': nan, 'United States': 0.674254, 'South Africa': 0.263982}\n"
     ]
    }
   ],
   "source": [
    "# Check mongoDB\n",
    "db, collection = get_db(db_handle, db_name, collection_name)\n",
    "result = collection.find().limit(5)  # Fetch 5 records for inspection\n",
    "for record in result:\n",
    "    print(record)"
   ]
  }
 ],
 "metadata": {
  "kernelspec": {
   "display_name": "base",
   "language": "python",
   "name": "python3"
  },
  "language_info": {
   "codemirror_mode": {
    "name": "ipython",
    "version": 3
   },
   "file_extension": ".py",
   "mimetype": "text/x-python",
   "name": "python",
   "nbconvert_exporter": "python",
   "pygments_lexer": "ipython3",
   "version": "3.12.3"
  }
 },
 "nbformat": 4,
 "nbformat_minor": 2
}
