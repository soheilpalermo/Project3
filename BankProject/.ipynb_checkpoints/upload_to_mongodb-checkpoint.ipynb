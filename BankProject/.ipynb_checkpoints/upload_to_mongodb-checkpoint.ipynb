{
 "cells": [
  {
   "cell_type": "code",
   "execution_count": 1,
   "id": "affc22b7-3a20-4dca-86ec-a6d440a91376",
   "metadata": {},
   "outputs": [
    {
     "name": "stdout",
     "output_type": "stream",
     "text": [
      "Requirement already satisfied: pandas in e:\\soheil\\lib\\site-packages (2.1.4)\n",
      "Requirement already satisfied: pymongo in e:\\soheil\\lib\\site-packages (4.10.1)\n",
      "Requirement already satisfied: numpy<2,>=1.26.0 in e:\\soheil\\lib\\site-packages (from pandas) (1.26.4)\n",
      "Requirement already satisfied: python-dateutil>=2.8.2 in e:\\soheil\\lib\\site-packages (from pandas) (2.9.0.post0)\n",
      "Requirement already satisfied: pytz>=2020.1 in e:\\soheil\\lib\\site-packages (from pandas) (2024.1)\n",
      "Requirement already satisfied: tzdata>=2022.1 in e:\\soheil\\lib\\site-packages (from pandas) (2023.3)\n",
      "Requirement already satisfied: dnspython<3.0.0,>=1.16.0 in e:\\soheil\\lib\\site-packages (from pymongo) (2.7.0)\n",
      "Requirement already satisfied: six>=1.5 in e:\\soheil\\lib\\site-packages (from python-dateutil>=2.8.2->pandas) (1.16.0)\n"
     ]
    }
   ],
   "source": [
    "!pip install pandas pymongo"
   ]
  },
  {
   "cell_type": "code",
   "execution_count": 3,
   "id": "a7dfc122-0234-415b-9582-21c367e68c43",
   "metadata": {},
   "outputs": [],
   "source": [
    "import os\n",
    "import pandas as pd\n",
    "from pymongo import MongoClient"
   ]
  },
  {
   "cell_type": "code",
   "execution_count": 4,
   "id": "2dbcdc7a-6c95-435d-ac81-76bed2c7d478",
   "metadata": {},
   "outputs": [],
   "source": [
    "client = MongoClient(port=27017)\n",
    "db = client[\"bank_project\"]\n",
    "collection = db[\"economic_indicators\"]"
   ]
  },
  {
   "cell_type": "code",
   "execution_count": 5,
   "id": "a4fdb521-a6ee-4691-aa4f-047dfd472058",
   "metadata": {},
   "outputs": [],
   "source": [
    "# Path to the folder \n",
    "excel_folder_path = \"GemDataEXTR\"  "
   ]
  },
  {
   "cell_type": "code",
   "execution_count": 9,
   "id": "4b4a8c00-1ae7-44a0-a230-c282c3f2794a",
   "metadata": {},
   "outputs": [],
   "source": [
    "# Function to check if file is relevant\n",
    "def is_relevant_file(filename):\n",
    "    return ('GDP' in filename.upper() or 'CPI' in filename.upper()) and filename.endswith('.xlsx')\n"
   ]
  },
  {
   "cell_type": "code",
   "execution_count": 11,
   "id": "f5bdbdcd-6e53-46ad-9337-2320023e213d",
   "metadata": {},
   "outputs": [
    {
     "data": {
      "text/plain": [
       "DeleteResult({'n': 0, 'ok': 1.0}, acknowledged=True)"
      ]
     },
     "execution_count": 11,
     "metadata": {},
     "output_type": "execute_result"
    }
   ],
   "source": [
    "# Clear existing collection to start fresh\n",
    "collection.delete_many({})"
   ]
  },
  {
   "cell_type": "code",
   "execution_count": 13,
   "id": "ab7e09c2-1509-45ef-8f45-e26a25d9274a",
   "metadata": {},
   "outputs": [
    {
     "name": "stdout",
     "output_type": "stream",
     "text": [
      "Processing file: Core CPI, not seas. adj..xlsx\n",
      "Successfully inserted 31 records from Core CPI, not seas. adj..xlsx\n",
      "Processing file: Core CPI, seas. adj..xlsx\n",
      "Successfully inserted 31 records from Core CPI, seas. adj..xlsx\n",
      "Processing file: CPI Price, % y-o-y, median weighted, seas. adj..xlsx\n",
      "Successfully inserted 31 records from CPI Price, % y-o-y, median weighted, seas. adj..xlsx\n",
      "Processing file: CPI Price, % y-o-y, nominal, seas. adj..xlsx\n",
      "Successfully inserted 31 records from CPI Price, % y-o-y, nominal, seas. adj..xlsx\n",
      "Processing file: CPI Price, nominal, not seas. adj..xlsx\n",
      "Successfully inserted 31 records from CPI Price, nominal, not seas. adj..xlsx\n",
      "Processing file: CPI Price, nominal, seas. adj..xlsx\n",
      "Successfully inserted 31 records from CPI Price, nominal, seas. adj..xlsx\n",
      "Processing file: GDP at market prices, constant 2010 LCU, millions, seas. adj..xlsx\n",
      "Successfully inserted 31 records from GDP at market prices, constant 2010 LCU, millions, seas. adj..xlsx\n",
      "Processing file: GDP at market prices, constant 2010 US$, millions, seas. adj..xlsx\n",
      "Successfully inserted 31 records from GDP at market prices, constant 2010 US$, millions, seas. adj..xlsx\n",
      "Processing file: GDP at market prices, current LCU, millions, seas. adj..xlsx\n",
      "Successfully inserted 31 records from GDP at market prices, current LCU, millions, seas. adj..xlsx\n",
      "Processing file: GDP at market prices, current US$, millions, seas. adj..xlsx\n",
      "Successfully inserted 31 records from GDP at market prices, current US$, millions, seas. adj..xlsx\n",
      "Processing file: GDP Deflator at Market Prices, LCU.xlsx\n",
      "Successfully inserted 121 records from GDP Deflator at Market Prices, LCU.xlsx\n",
      "\n",
      "Processed Files:\n",
      "- Core CPI, not seas. adj..xlsx\n",
      "- Core CPI, seas. adj..xlsx\n",
      "- CPI Price, % y-o-y, median weighted, seas. adj..xlsx\n",
      "- CPI Price, % y-o-y, nominal, seas. adj..xlsx\n",
      "- CPI Price, nominal, not seas. adj..xlsx\n",
      "- CPI Price, nominal, seas. adj..xlsx\n",
      "- GDP at market prices, constant 2010 LCU, millions, seas. adj..xlsx\n",
      "- GDP at market prices, constant 2010 US$, millions, seas. adj..xlsx\n",
      "- GDP at market prices, current LCU, millions, seas. adj..xlsx\n",
      "- GDP at market prices, current US$, millions, seas. adj..xlsx\n",
      "- GDP Deflator at Market Prices, LCU.xlsx\n"
     ]
    }
   ],
   "source": [
    "# Process files with GDP or CPI in their names\n",
    "processed_files = []\n",
    "for file_name in os.listdir(excel_folder_path):\n",
    "    if is_relevant_file(file_name):\n",
    "        file_path = os.path.join(excel_folder_path, file_name)\n",
    "        print(f\"Processing file: {file_name}\")\n",
    "        \n",
    "        try:\n",
    "            # Load the Excel file\n",
    "            df = pd.read_excel(file_path)\n",
    "            \n",
    "            # Add metadata to each record\n",
    "            data = df.to_dict(orient=\"records\")\n",
    "            for record in data:\n",
    "                record['indicator_type'] = 'GDP' if 'GDP' in file_name.upper() else 'CPI'\n",
    "                record['file_source'] = file_name\n",
    "                record['seasonally_adjusted'] = 'seas. adj.' in file_name.lower()\n",
    "            \n",
    "            # Insert into MongoDB\n",
    "            collection.insert_many(data)\n",
    "            processed_files.append(file_name)\n",
    "            print(f\"Successfully inserted {len(data)} records from {file_name}\")\n",
    "            \n",
    "        except Exception as e:\n",
    "            print(f\"Error processing {file_name}: {str(e)}\")\n",
    "\n",
    "print(\"\\nProcessed Files:\")\n",
    "for file in processed_files:\n",
    "    print(f\"- {file}\")"
   ]
  },
  {
   "cell_type": "code",
   "execution_count": 15,
   "id": "64b960e4-07e9-4b05-8245-30b841a39f09",
   "metadata": {},
   "outputs": [
    {
     "name": "stdout",
     "output_type": "stream",
     "text": [
      "\n",
      "Sample records from database:\n",
      "{'_id': ObjectId('67551105babcc9a9ae100496'), 'Unnamed: 0': nan, 'Albania': nan, 'Armenia': nan, 'Belgium': nan, 'Belarus': nan, 'Brazil': nan, 'Canada': nan, 'Switzerland': nan, 'Chile': nan, 'China': nan, 'Cameroon': nan, 'Colombia': nan, 'Costa Rica': nan, 'Cyprus': nan, 'Czech Republic': nan, 'Germany': nan, 'Denmark': nan, 'Dominican Republic': nan, 'Ecuador': nan, 'Egypt, Arab Rep.': nan, 'Spain': nan, 'Fiji': nan, 'France': nan, 'United Kingdom': nan, 'Georgia': nan, 'Greece': nan, 'Guatemala': nan, 'Hong Kong SAR, China': nan, 'Honduras': nan, 'Croatia': nan, 'Hungary': nan, 'Indonesia': nan, 'India': nan, 'Ireland': nan, 'Iraq': nan, 'Iceland': nan, 'Israel': nan, 'Italy': nan, 'Jordan': nan, 'Japan': nan, 'Kyrgyz Republic': nan, 'Korea, Rep.': nan, 'Kuwait': nan, 'Lao, PDR': nan, 'Sri Lanka': nan, 'Lithuania': nan, 'Luxembourg': nan, 'Latvia': nan, 'Morocco': nan, 'Moldova, Rep.': nan, 'Mexico': nan, 'North Macedonia': nan, 'Malta': nan, 'Mauritius': nan, 'Malaysia': nan, 'Nigeria': nan, 'Nicaragua': nan, 'Netherlands': nan, 'Norway': nan, 'Peru': nan, 'Philippines': nan, 'Poland': nan, 'Portugal': nan, 'Paraguay': nan, 'Qatar': nan, 'Romania': nan, 'Russian Federation': nan, 'Saudi Arabia': nan, 'Senegal': nan, 'Singapore': nan, 'El Salvador': nan, 'Slovakia': nan, 'Slovenia': nan, 'Sweden': nan, 'Seychelles': nan, 'Chad': nan, 'Togo': nan, 'Thailand': nan, 'Trinidad and Tobago': nan, 'Turkey': nan, 'Taiwan, China': nan, 'Tanzania, United Rep.': nan, 'Uganda': nan, 'Uruguay': nan, 'United States': nan, 'Viet Nam': nan, 'Kosovo': nan, 'South Africa': nan, 'indicator_type': 'CPI', 'file_source': 'Core CPI, not seas. adj..xlsx', 'seasonally_adjusted': True}\n",
      "{'_id': ObjectId('67551105babcc9a9ae100497'), 'Unnamed: 0': 1995.0, 'Albania': nan, 'Armenia': nan, 'Belgium': nan, 'Belarus': nan, 'Brazil': 37.98033, 'Canada': 79.53256, 'Switzerland': nan, 'Chile': nan, 'China': nan, 'Cameroon': nan, 'Colombia': nan, 'Costa Rica': nan, 'Cyprus': nan, 'Czech Republic': nan, 'Germany': nan, 'Denmark': nan, 'Dominican Republic': nan, 'Ecuador': nan, 'Egypt, Arab Rep.': nan, 'Spain': nan, 'Fiji': nan, 'France': nan, 'United Kingdom': 79.56381, 'Georgia': nan, 'Greece': nan, 'Guatemala': nan, 'Hong Kong SAR, China': nan, 'Honduras': nan, 'Croatia': nan, 'Hungary': 35.15982, 'Indonesia': nan, 'India': nan, 'Ireland': nan, 'Iraq': nan, 'Iceland': nan, 'Israel': 64.69824, 'Italy': nan, 'Jordan': nan, 'Japan': 103.051, 'Kyrgyz Republic': nan, 'Korea, Rep.': 66.38717, 'Kuwait': nan, 'Lao, PDR': nan, 'Sri Lanka': nan, 'Lithuania': nan, 'Luxembourg': nan, 'Latvia': nan, 'Morocco': nan, 'Moldova, Rep.': nan, 'Mexico': 27.91926, 'North Macedonia': nan, 'Malta': nan, 'Mauritius': nan, 'Malaysia': nan, 'Nigeria': 23.98342, 'Nicaragua': nan, 'Netherlands': nan, 'Norway': nan, 'Peru': 58.29995, 'Philippines': nan, 'Poland': nan, 'Portugal': nan, 'Paraguay': 35.40767, 'Qatar': nan, 'Romania': nan, 'Russian Federation': nan, 'Saudi Arabia': nan, 'Senegal': nan, 'Singapore': 81.00394, 'El Salvador': nan, 'Slovakia': nan, 'Slovenia': nan, 'Sweden': nan, 'Seychelles': nan, 'Chad': nan, 'Togo': nan, 'Thailand': 79.15027, 'Trinidad and Tobago': 71.87268, 'Turkey': nan, 'Taiwan, China': 91.1974, 'Tanzania, United Rep.': nan, 'Uganda': nan, 'Uruguay': nan, 'United States': 73.2441, 'Viet Nam': nan, 'Kosovo': nan, 'South Africa': nan, 'indicator_type': 'CPI', 'file_source': 'Core CPI, not seas. adj..xlsx', 'seasonally_adjusted': True}\n"
     ]
    }
   ],
   "source": [
    "# Display sample of the data\n",
    "print(\"\\nSample records from database:\")\n",
    "for record in collection.find().limit(2):\n",
    "    print(record)"
   ]
  },
  {
   "cell_type": "code",
   "execution_count": 21,
   "id": "1971ed4f-f519-4fcb-a910-b4de15d75770",
   "metadata": {},
   "outputs": [
    {
     "name": "stdout",
     "output_type": "stream",
     "text": [
      "Total GDP records: 245\n",
      "Total CPI records: 186\n",
      "\n",
      "Number of countries in dataset: 91\n",
      "\n",
      "Sample countries: ['Albania', 'United Arab Emirates', 'Argentina', 'Australia', 'Austria']\n",
      "\n",
      "Date range: 1995 to 2024\n"
     ]
    }
   ],
   "source": [
    "def explore_data():\n",
    "    # Count records by indicator type\n",
    "    gdp_count = collection.count_documents({\"indicator_type\": \"GDP\"})\n",
    "    cpi_count = collection.count_documents({\"indicator_type\": \"CPI\"})\n",
    "    \n",
    "    print(f\"Total GDP records: {gdp_count}\")\n",
    "    print(f\"Total CPI records: {cpi_count}\")\n",
    "    \n",
    "    # Get list of all countries\n",
    "    sample_record = collection.find_one({\"indicator_type\": \"GDP\"})\n",
    "    countries = [key for key in sample_record.keys() \n",
    "                if key not in ['_id', 'Unnamed: 0', 'indicator_type', 'file_source', 'seasonally_adjusted']]\n",
    "    \n",
    "    print(f\"\\nNumber of countries in dataset: {len(countries)}\")\n",
    "    print(\"\\nSample countries:\", countries[:5])\n",
    "    \n",
    "    # Check date range - Fixed version\n",
    "    years_data = list(collection.distinct(\"Unnamed: 0\"))\n",
    "    # Convert years to numeric values, filtering out any non-numeric entries\n",
    "    years = [float(year) for year in years_data if str(year).replace('.', '').isdigit()]\n",
    "    \n",
    "    if years:  # Make sure we have valid years\n",
    "        min_year = min(years)\n",
    "        max_year = max(years)\n",
    "        print(f\"\\nDate range: {int(min_year)} to {int(max_year)}\")\n",
    "    else:\n",
    "        print(\"\\nNo valid years found in the dataset\")\n",
    "\n",
    "explore_data()"
   ]
  },
  {
   "cell_type": "code",
   "execution_count": null,
   "id": "0508fa78-275f-453e-866c-8fdd425d2c71",
   "metadata": {},
   "outputs": [],
   "source": []
  }
 ],
 "metadata": {
  "kernelspec": {
   "display_name": "Python 3 (ipykernel)",
   "language": "python",
   "name": "python3"
  },
  "language_info": {
   "codemirror_mode": {
    "name": "ipython",
    "version": 3
   },
   "file_extension": ".py",
   "mimetype": "text/x-python",
   "name": "python",
   "nbconvert_exporter": "python",
   "pygments_lexer": "ipython3",
   "version": "3.12.4"
  }
 },
 "nbformat": 4,
 "nbformat_minor": 5
}
